{
 "cells": [
  {
   "cell_type": "code",
   "execution_count": null,
   "id": "6c5ca004-7033-4fb7-aa58-0c3442227c94",
   "metadata": {},
   "outputs": [],
   "source": [
    "import matplotlib.pyplot as plot"
   ]
  },
  {
   "cell_type": "code",
   "execution_count": null,
   "id": "4c129ad3-a47c-4394-8f53-8c884ae10f58",
   "metadata": {},
   "outputs": [],
   "source": [
    "import numpy as np"
   ]
  },
  {
   "cell_type": "code",
   "execution_count": null,
   "id": "da303d53-519a-4ed7-a89c-7c5bdb5106c7",
   "metadata": {},
   "outputs": [],
   "source": []
  },
  {
   "cell_type": "code",
   "execution_count": null,
   "id": "7c3380d4-0004-44dd-a78d-e585e533981d",
   "metadata": {},
   "outputs": [],
   "source": [
    "a=np.random.uniform(size=(2,2))"
   ]
  },
  {
   "cell_type": "code",
   "execution_count": null,
   "id": "f6e01dd1-74f4-4920-b202-09be9e5c9317",
   "metadata": {},
   "outputs": [],
   "source": [
    "a[1][1]"
   ]
  },
  {
   "cell_type": "code",
   "execution_count": null,
   "id": "3799c0ef-7caa-4a12-8e5f-9dd42ff45e68",
   "metadata": {},
   "outputs": [],
   "source": [
    "a"
   ]
  },
  {
   "cell_type": "code",
   "execution_count": null,
   "id": "947aa3c6-49aa-4560-a594-7cb786e928a8",
   "metadata": {},
   "outputs": [],
   "source": [
    "import numpy as np\n",
    "import matplotlib.pyplot as plt\n",
    "\n",
    "# Sinir ağı yapısını çizme fonksiyonu\n",
    "def draw_neural_net(ax, left, right, bottom, top, layer_sizes):\n",
    "    v_spacing = (top - bottom) / float(max(layer_sizes))\n",
    "    h_spacing = (right - left) / float(len(layer_sizes) - 1)\n",
    "    # Giriş ve katman nöronlarının koordinatlarını saklayın\n",
    "    layer_top = [top - (i * v_spacing) for i in range(layer_sizes[0])]\n",
    "    ax.scatter([left] * layer_sizes[0], layer_top, s=500, zorder=5, color='r')\n",
    "\n",
    "    for n, layer_size in enumerate(layer_sizes[1:]):\n",
    "        layer_top = [top - (i * v_spacing) for i in range(layer_size)]\n",
    "        ax.scatter([left + h_spacing * (n + 1)] * layer_size, layer_top, s=500, zorder=5, color='r')\n",
    "        for m in range(layer_sizes[n]):\n",
    "            ax.plot([left, left + h_spacing * (n + 1)], [top - (m * v_spacing), top - (m * v_spacing)], 'k', lw=1, zorder=1)\n",
    "            for j in range(layer_size):\n",
    "                ax.plot([left + h_spacing * n, left + h_spacing * (n + 1)], [top - (m * v_spacing), top - (j * v_spacing)], 'k', lw=1, zorder=1)\n",
    "\n",
    "fig = plt.figure(figsize=(12, 12))\n",
    "ax = fig.gca()\n",
    "ax.axis('off')\n",
    "draw_neural_net(ax, .1, .9, .1, .9, [2, 2, 1])\n",
    "plt.show()\n"
   ]
  },
  {
   "cell_type": "code",
   "execution_count": null,
   "id": "b7661014-30db-4faf-9215-6e0e9fd9f783",
   "metadata": {},
   "outputs": [],
   "source": [
    "import numpy as np\n",
    "\n",
    "# Sigmoid aktivasyon fonksiyonu ve türevi\n",
    "def sigmoid(x):\n",
    "    return 1 / (1 + np.exp(-x))\n",
    "\n",
    "def sigmoid_derivative(x):\n",
    "    return x * (1 - x)\n",
    "\n",
    "# Eğitim verisi ve etiketleri (örneğin, XOR kapısı)\n",
    "girdi_verisi = np.array([[0, 0], [0, 1], [1, 0], [1, 1]])\n",
    "etiketler = np.array([[0], [1], [1], [0]])\n",
    "\n",
    "# Hiperparametreler\n",
    "girdi_noron_sayisi = 2\n",
    "gizli_noron_sayisi = 2\n",
    "cikti_noron_sayisi = 1\n",
    "ogrenme_orani = 0.1\n",
    "epoch_sayisi = 10000\n",
    "\n",
    "# Ağırlıkların ve önyargıların başlatılması\n",
    "np.random.seed(1)\n",
    "gizli_katman_agirliklari = np.random.uniform(size=(girdi_noron_sayisi, gizli_noron_sayisi))\n",
    "gizli_katman_bias = np.random.uniform(size=(1, gizli_noron_sayisi))\n",
    "cikti_katman_agirliklari = np.random.uniform(size=(gizli_noron_sayisi, cikti_noron_sayisi))\n",
    "cikti_katman_bias = np.random.uniform(size=(1, cikti_noron_sayisi))\n",
    "\n",
    "# Eğitim\n",
    "for epoch in range(epoch_sayisi):\n",
    "    # İleri besleme\n",
    "    gizli_katman_giris = np.dot(girdi_verisi, gizli_katman_agirliklari) + gizli_katman_bias\n",
    "    gizli_katman_cikis = sigmoid(gizli_katman_giris)\n",
    "    \n",
    "    cikti_katman_giris = np.dot(gizli_katman_cikis, cikti_katman_agirliklari) + cikti_katman_bias\n",
    "    cikti_katman_cikis = sigmoid(cikti_katman_giris)\n",
    "    \n",
    "    # Hata hesaplama\n",
    "    hata = etiketler - cikti_katman_cikis\n",
    "    \n",
    "    # Geri yayılım\n",
    "    cikti_katman_hata = hata * sigmoid_derivative(cikti_katman_cikis)\n",
    "    \n",
    "    gizli_katman_hata = cikti_katman_hata.dot(cikti_katman_agirliklari.T) * sigmoid_derivative(gizli_katman_cikis)\n",
    "    \n",
    "    # Ağırlık ve önyargı güncelleme\n",
    "    cikti_katman_agirliklari += gizli_katman_cikis.T.dot(cikti_katman_hata) * ogrenme_orani\n",
    "    cikti_katman_bias += np.sum(cikti_katman_hata, axis=0, keepdims=True) * ogrenme_orani\n",
    "    \n",
    "    gizli_katman_agirliklari += girdi_verisi.T.dot(gizli_katman_hata) * ogrenme_orani\n",
    "    gizli_katman_bias += np.sum(gizli_katman_hata, axis=0, keepdims=True) * ogrenme_orani\n",
    "\n",
    "# Sonuç\n",
    "print(\"Eğitim sonrası çıktı:\")\n",
    "print(cikti_katman_cikis)\n",
    "\n",
    "# Yeni veri için tahmin yapma fonksiyonu\n",
    "def tahmin_yap(girdi):\n",
    "    gizli_katman_giris = np.dot(girdi, gizli_katman_agirliklari) + gizli_katman_bias\n",
    "    gizli_katman_cikis = sigmoid(gizli_katman_giris)\n",
    "    \n",
    "    cikti_katman_giris = np.dot(gizli_katman_cikis, cikti_katman_agirliklari) + cikti_katman_bias\n",
    "    cikti_katman_cikis = sigmoid(cikti_katman_giris)\n",
    "    \n",
    "    return cikti_katman_cikis\n",
    "\n",
    "# Yeni veri ile tahmin yapma\n",
    "yeni_girdi = np.array([[1, 1]])\n",
    "tahmin = tahmin_yap(yeni_girdi)\n",
    "print(\"Yeni girdi için tahmin:\")\n",
    "print(round(tahmin[0][0]))\n"
   ]
  },
  {
   "cell_type": "code",
   "execution_count": null,
   "id": "9410f099-05ca-4a4a-bd7d-977cd9ab9cf9",
   "metadata": {},
   "outputs": [],
   "source": [
    "round(0.6)"
   ]
  },
  {
   "cell_type": "code",
   "execution_count": null,
   "id": "9aad1605-25b3-4f05-8294-06205517f952",
   "metadata": {},
   "outputs": [],
   "source": [
    "np.random.uniform(size=(1, gizli_noron_sayisi))"
   ]
  },
  {
   "cell_type": "code",
   "execution_count": null,
   "id": "040f623c-7119-4bd1-8238-309c70d1760c",
   "metadata": {},
   "outputs": [],
   "source": [
    "import numpy as np\n",
    "\n",
    "# Sigmoid aktivasyon fonksiyonu\n",
    "def sigmoid(x):\n",
    "    return 1 / (1 + np.exp(-x))\n",
    "\n",
    "# Girdi verisi\n",
    "x = np.array([0.5, 0.3])\n",
    "\n",
    "# Ağırlıklar\n",
    "w = np.array([0.4, 0.6])\n",
    "\n",
    "# Önyargı\n",
    "b = 0.1\n",
    "\n",
    "# Önyargısız net girdi ve çıktı\n",
    "z_no_bias = np.dot(x, w)\n",
    "output_no_bias = sigmoid(z_no_bias)\n",
    "print(\"Önyargısız çıktı:\", output_no_bias)\n",
    "\n",
    "# Önyargılı net girdi ve çıktı\n",
    "z_with_bias = np.dot(x, w) + b\n",
    "output_with_bias = sigmoid(z_with_bias)\n",
    "print(\"Önyargılı çıktı:\", output_with_bias)\n"
   ]
  },
  {
   "cell_type": "code",
   "execution_count": null,
   "id": "b9673bad-791f-4ee3-ba78-243f3c8e887f",
   "metadata": {},
   "outputs": [],
   "source": [
    "np.dot(x,w)"
   ]
  },
  {
   "cell_type": "code",
   "execution_count": null,
   "id": "ccc19e4d-f9c2-4195-a6ad-8662daac5773",
   "metadata": {},
   "outputs": [],
   "source": [
    "x+w"
   ]
  },
  {
   "cell_type": "code",
   "execution_count": 138,
   "id": "a47d2e29-6f4f-467f-b975-29bb753701e5",
   "metadata": {},
   "outputs": [
    {
     "data": {
      "text/plain": [
       "np.float64(0.2708629636088993)"
      ]
     },
     "execution_count": 138,
     "metadata": {},
     "output_type": "execute_result"
    }
   ],
   "source": [
    "import numpy as np\n",
    "\n",
    "# Sigmoid aktivasyon fonksiyonu ve türevi\n",
    "def sigmoid(x):\n",
    "    return 1 / (1 + np.exp(-x))\n",
    "\n",
    "def sigmoid_derivative(x):\n",
    "    return x * (1 - x)\n",
    "\n",
    "# Eğitim verisi (örneğin, rastgele veri kümesi)\n",
    "girdi_verisi = np.random.rand(100, 10)  # 1000 örnek, her biri 10 boyutlu\n",
    "\n",
    "# Hiperparametreler\n",
    "girdi_noron_sayisi = girdi_verisi.shape[1]\n",
    "gizli_noron_sayisi = 10\n",
    "ogrenme_orani = 0.001\n",
    "epoch_sayisi = 1\n",
    "\n",
    "# Ağırlıkların ve önyargıların başlatılması\n",
    "#np.random.seed(1)\n",
    "gizli_katman_agirliklari = np.random.uniform(size=(girdi_noron_sayisi, gizli_noron_sayisi))\n",
    "#print(gizli_katman_agirliklari)\n",
    "gizli_katman_bias = np.random.uniform(size=(1, gizli_noron_sayisi))\n",
    "cikti_katman_agirliklari = np.random.uniform(size=(gizli_noron_sayisi, girdi_noron_sayisi))\n",
    "#print(cikti_katman_agirliklari)\n",
    "cikti_katman_bias = np.random.uniform(size=(1, girdi_noron_sayisi))\n",
    "\n",
    "\n",
    "def egit():\n",
    "    \n",
    "    global girdi_verisi \n",
    "    \n",
    "    # Hiperparametreler\n",
    "    global girdi_noron_sayisi \n",
    "    global gizli_noron_sayisi \n",
    "    global ogrenme_orani \n",
    "    global epoch_sayisi\n",
    "    \n",
    "    # Ağırlıkların ve önyargıların başlatılması\n",
    "    #np.random.seed(1)\n",
    "    global gizli_katman_agirliklari \n",
    "    #print(gizli_katman_agirliklari)\n",
    "    global gizli_katman_bias \n",
    "    global cikti_katman_agirliklari \n",
    "    #print(cikti_katman_agirliklari)\n",
    "    global cikti_katman_bias \n",
    "\n",
    "    \n",
    "    for epoch in range(epoch_sayisi):\n",
    "        # İleri besleme\n",
    "        gizli_katman_giris = np.dot(girdi_verisi, gizli_katman_agirliklari) + gizli_katman_bias\n",
    "        gizli_katman_cikis = sigmoid(gizli_katman_giris)\n",
    "        \n",
    "        cikti_katman_giris = np.dot(gizli_katman_cikis, cikti_katman_agirliklari) + cikti_katman_bias\n",
    "        cikti_katman_cikis = sigmoid(cikti_katman_giris)\n",
    "        \n",
    "        # Hata hesaplama\n",
    "        hata = girdi_verisi - cikti_katman_cikis\n",
    "        \n",
    "        # Geri yayılım\n",
    "        cikti_katman_hata = hata * sigmoid_derivative(cikti_katman_cikis)\n",
    "        \n",
    "        gizli_katman_hata = cikti_katman_hata.dot(cikti_katman_agirliklari.T) * sigmoid_derivative(gizli_katman_cikis)\n",
    "        \n",
    "        # Ağırlık ve önyargı güncelleme\n",
    "        cikti_katman_agirliklari += gizli_katman_cikis.T.dot(cikti_katman_hata) * ogrenme_orani\n",
    "        cikti_katman_bias += np.sum(cikti_katman_hata, axis=0, keepdims=True) * ogrenme_orani\n",
    "        \n",
    "        gizli_katman_agirliklari += girdi_verisi.T.dot(gizli_katman_hata) * ogrenme_orani\n",
    "        gizli_katman_bias += np.sum(gizli_katman_hata, axis=0, keepdims=True) * ogrenme_orani\n",
    "    \n",
    "    # Sonuç\n",
    "    #print(\"Eğitim sonrası çıktı (ilk 5 örnek):\")\n",
    "    #print(cikti_katman_cikis[:5])\n",
    "    \n",
    "    # Yeni veri için tahmin yapma fonksiyonu\n",
    "    def tahmin_yap(girdi):\n",
    "        gizli_katman_giris = np.dot(girdi, gizli_katman_agirliklari) + gizli_katman_bias\n",
    "        gizli_katman_cikis = sigmoid(gizli_katman_giris)\n",
    "        \n",
    "        cikti_katman_giris = np.dot(gizli_katman_cikis, cikti_katman_agirliklari) + cikti_katman_bias\n",
    "        cikti_katman_cikis = sigmoid(cikti_katman_giris)\n",
    "        \n",
    "        return cikti_katman_cikis\n",
    "    \n",
    "    # Yeni veri ile tahmin yapma\n",
    "    yeni_girdi = np.random.rand(1, 10)  # Rastgele yeni girdi\n",
    "    #print(yeni_girdi)\n",
    "    tahmin = tahmin_yap(yeni_girdi)\n",
    "    #print(\"Yeni girdi için tahmin:\")\n",
    "    #print(tahmin)\n",
    "    return abs(yeni_girdi-tahmin)[0][0]\n",
    "\n",
    "    girdi_verisi = np.random.rand(100, 10)  # 1000 örnek, her biri 10 boyutlu\n",
    "egit()"
   ]
  },
  {
   "cell_type": "code",
   "execution_count": 139,
   "id": "c2c1cd85-a109-448d-b38a-0503d88b1cbc",
   "metadata": {},
   "outputs": [],
   "source": [
    "error=[]"
   ]
  },
  {
   "cell_type": "code",
   "execution_count": 190,
   "id": "2751fa75-bbf3-4466-8ea9-3547cd79cb54",
   "metadata": {},
   "outputs": [],
   "source": [
    "\n",
    "\n",
    "for i in range(100000):\n",
    "    error.append(egit())\n",
    "egit()\n",
    "\n",
    "x=range(len(error))"
   ]
  },
  {
   "cell_type": "code",
   "execution_count": 189,
   "id": "08a069d2-4215-4ee5-a228-54475ff526a9",
   "metadata": {},
   "outputs": [
    {
     "data": {
      "image/png": "[encoded data removed]",
      "text/plain": [
       "<Figure size 640x480 with 1 Axes>"
      ]
     },
     "metadata": {},
     "output_type": "display_data"
    }
   ],
   "source": [
    "import matplotlib.pyplot as plt\n",
    "\n",
    "plt.plot(x,error,\"r.\")\n",
    "plt.show()"
   ]
  },
  {
   "cell_type": "code",
   "execution_count": 185,
   "id": "5ec467d6-51a8-4346-a09c-1c52c9e1c651",
   "metadata": {},
   "outputs": [
    {
     "data": {
      "text/plain": [
       "np.float64(0.05861448823705728)"
      ]
     },
     "execution_count": 185,
     "metadata": {},
     "output_type": "execute_result"
    }
   ],
   "source": [
    "egit()"
   ]
  },
  {
   "cell_type": "code",
   "execution_count": null,
   "id": "231cb4c9-2365-41c2-a1ad-bea846fe02df",
   "metadata": {},
   "outputs": [],
   "source": []
  }
 ],
 "metadata": {
  "kernelspec": {
   "display_name": "Python 3 (ipykernel)",
   "language": "python",
   "name": "python3"
  },
  "language_info": {
   "codemirror_mode": {
    "name": "ipython",
    "version": 3
   },
   "file_extension": ".py",
   "mimetype": "text/x-python",
   "name": "python",
   "nbconvert_exporter": "python",
   "pygments_lexer": "ipython3",
   "version": "3.12.4"
  }
 },
 "nbformat": 4,
 "nbformat_minor": 5
}
