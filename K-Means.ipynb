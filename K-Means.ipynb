{
 "cells": [
  {
   "cell_type": "code",
   "execution_count": 1,
   "id": "9796299b-977e-40ef-83ec-d92e28ddb1d7",
   "metadata": {},
   "outputs": [],
   "source": [
    "import matplotlib.pyplot as plt\n",
    "import numpy as np\n",
    "import random"
   ]
  },
  {
   "cell_type": "code",
   "execution_count": null,
   "id": "3e28461c-14c3-465a-834e-984aed81723e",
   "metadata": {},
   "outputs": [],
   "source": []
  },
  {
   "cell_type": "code",
   "execution_count": 2,
   "id": "89b93c4e-24ea-4d99-8d01-bb2a44c68fb3",
   "metadata": {},
   "outputs": [],
   "source": [
    "x=np.random.rand(100) \n",
    "y=np.random.rand(100) \n",
    "noktalar=[x,y]\n",
    "\n",
    "x=np.random.rand(4) \n",
    "y=np.random.rand(4) \n",
    "gruplar=[x,y]"
   ]
  },
  {
   "cell_type": "code",
   "execution_count": null,
   "id": "b2857b69-a2ef-45f6-84bb-0a4b83716389",
   "metadata": {},
   "outputs": [],
   "source": []
  },
  {
   "cell_type": "code",
   "execution_count": null,
   "id": "c943a335-4597-4fb5-aa29-bd0ffc84123b",
   "metadata": {},
   "outputs": [],
   "source": []
  },
  {
   "cell_type": "code",
   "execution_count": 26,
   "id": "311cc235-1e4e-46cf-9243-2af3928eccda",
   "metadata": {},
   "outputs": [],
   "source": [
    "# Gruplar için boş listeler oluştur\n",
    "r = [[], []]\n",
    "g = [[], []]\n",
    "k = [[], []]\n",
    "yy = [[], []]\n",
    "dizi = [r, g, k, yy]\n",
    "\n",
    "# Her noktayı en yakın grup merkezine ata\n",
    "for i in range(len(noktalar[0])):\n",
    "    x = noktalar[0][i]\n",
    "    y = noktalar[1][i]\n",
    "    \n",
    "    ru = ((gruplar[0][0] - x)**2 + (gruplar[1][0] - y)**2)**(1/2)\n",
    "    gu = ((gruplar[0][1] - x)**2 + (gruplar[1][1] - y)**2)**(1/2)\n",
    "    ku = ((gruplar[0][2] - x)**2 + (gruplar[1][2] - y)**2)**(1/2)\n",
    "    yu = ((gruplar[0][3] - x)**2 + (gruplar[1][3] - y)**2)**(1/2)\n",
    "    dizi2 = [ru, gu, ku, yu]\n",
    "    m = min(dizi2)\n",
    "    indis = dizi2.index(m)\n",
    "\n",
    "    dizi[indis][0].append(x)\n",
    "    dizi[indis][1].append(y)\n",
    "\n"
   ]
  },
  {
   "cell_type": "code",
   "execution_count": 24,
   "id": "58ec012f-6abe-4e01-8b45-2576e6d88c0a",
   "metadata": {},
   "outputs": [],
   "source": [
    "gruplar[0][0]=np.mean(dizi[0][0])\n",
    "gruplar[1][0]=np.mean(dizi[0][1])\n",
    "\n",
    "gruplar[0][1]=np.mean(dizi[1][0])\n",
    "gruplar[1][1]=np.mean(dizi[1][1])\n",
    "\n",
    "gruplar[0][2]=np.mean(dizi[2][0])\n",
    "gruplar[1][2]=np.mean(dizi[2][1])\n",
    "\n",
    "gruplar[0][3]=np.mean(dizi[3][0])\n",
    "gruplar[1][3]=np.mean(dizi[3][1])"
   ]
  },
  {
   "cell_type": "code",
   "execution_count": 25,
   "id": "f7eab679-f071-4e00-ac34-7f0c3c956881",
   "metadata": {},
   "outputs": [
    {
     "data": {
      "text/plain": [
       "[<matplotlib.lines.Line2D at 0x7437796df500>]"
      ]
     },
     "execution_count": 25,
     "metadata": {},
     "output_type": "execute_result"
    },
    {
     "data": {
      "image/png": "[encoded data removed]",
      "text/plain": [
       "<Figure size 640x480 with 1 Axes>"
      ]
     },
     "metadata": {},
     "output_type": "display_data"
    }
   ],
   "source": [
    "plt.plot(gruplar[0][0],gruplar[1][0],\"r+\",markersize=20)\n",
    "plt.plot(gruplar[0][1],gruplar[1][1],\"g+\",markersize=20)\n",
    "plt.plot(gruplar[0][2],gruplar[1][2],\"k+\",markersize=20)\n",
    "plt.plot(gruplar[0][3],gruplar[1][3],\"y+\",markersize=20)\n",
    "\n",
    "plt.plot(dizi[0][0],dizi[0][1],\"ro\")\n",
    "plt.plot(dizi[1][0],dizi[1][1],\"go\")\n",
    "plt.plot(dizi[2][0],dizi[2][1],\"ko\")\n",
    "plt.plot(dizi[3][0],dizi[3][1],\"yo\")"
   ]
  },
  {
   "cell_type": "code",
   "execution_count": null,
   "id": "58c1ae1a-15ef-40fc-bf6d-d152d25c8dd0",
   "metadata": {},
   "outputs": [],
   "source": [
    "plt.plot(noktalar[0],noktalar[1],\"bo\")\n",
    "plt.plot(gruplar[0][0],gruplar[1][0],\"ro\")\n",
    "plt.plot(gruplar[0][1],gruplar[1][1],\"go\")\n",
    "plt.plot(gruplar[0][2],gruplar[1][2],\"ko\")\n",
    "plt.plot(gruplar[0][3],gruplar[1][3],\"yo\")\n",
    "plt.show()"
   ]
  },
  {
   "cell_type": "code",
   "execution_count": null,
   "id": "e6a51a13-cbfb-4bdc-ab62-110af2d83559",
   "metadata": {},
   "outputs": [],
   "source": []
  },
  {
   "cell_type": "code",
   "execution_count": null,
   "id": "6709842f-b226-40a8-9873-d091a4b0daf8",
   "metadata": {},
   "outputs": [],
   "source": []
  }
 ],
 "metadata": {
  "kernelspec": {
   "display_name": "Python 3 (ipykernel)",
   "language": "python",
   "name": "python3"
  },
  "language_info": {
   "codemirror_mode": {
    "name": "ipython",
    "version": 3
   },
   "file_extension": ".py",
   "mimetype": "text/x-python",
   "name": "python",
   "nbconvert_exporter": "python",
   "pygments_lexer": "ipython3",
   "version": "3.12.4"
  }
 },
 "nbformat": 4,
 "nbformat_minor": 5
}
