{
 "cells": [
  {
   "cell_type": "code",
   "execution_count": 7,
   "id": "9796299b-977e-40ef-83ec-d92e28ddb1d7",
   "metadata": {},
   "outputs": [],
   "source": [
    "import matplotlib.pyplot as plt\n",
    "import numpy as np\n",
    "import random"
   ]
  },
  {
   "cell_type": "code",
   "execution_count": 8,
   "id": "3e28461c-14c3-465a-834e-984aed81723e",
   "metadata": {},
   "outputs": [],
   "source": [
    "array=np.array([])"
   ]
  },
  {
   "cell_type": "code",
   "execution_count": 13,
   "id": "89b93c4e-24ea-4d99-8d01-bb2a44c68fb3",
   "metadata": {},
   "outputs": [
    {
     "data": {
      "text/plain": [
       "array([2.])"
      ]
     },
     "execution_count": 13,
     "metadata": {},
     "output_type": "execute_result"
    }
   ],
   "source": [
    "np.append(array,2)"
   ]
  },
  {
   "cell_type": "code",
   "execution_count": 14,
   "id": "58c1ae1a-15ef-40fc-bf6d-d152d25c8dd0",
   "metadata": {},
   "outputs": [
    {
     "data": {
      "text/plain": [
       "array([], dtype=float64)"
      ]
     },
     "execution_count": 14,
     "metadata": {},
     "output_type": "execute_result"
    }
   ],
   "source": [
    "array"
   ]
  },
  {
   "cell_type": "code",
   "execution_count": null,
   "id": "e6a51a13-cbfb-4bdc-ab62-110af2d83559",
   "metadata": {},
   "outputs": [],
   "source": []
  }
 ],
 "metadata": {
  "kernelspec": {
   "display_name": "Python 3 (ipykernel)",
   "language": "python",
   "name": "python3"
  },
  "language_info": {
   "codemirror_mode": {
    "name": "ipython",
    "version": 3
   },
   "file_extension": ".py",
   "mimetype": "text/x-python",
   "name": "python",
   "nbconvert_exporter": "python",
   "pygments_lexer": "ipython3",
   "version": "3.12.4"
  }
 },
 "nbformat": 4,
 "nbformat_minor": 5
}
